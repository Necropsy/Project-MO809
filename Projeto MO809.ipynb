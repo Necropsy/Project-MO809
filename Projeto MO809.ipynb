{
 "cells": [
  {
   "cell_type": "markdown",
   "metadata": {},
   "source": [
    "### MO809 - Tópicos em Sistemas Distribuídos \n",
    "\n",
    "Student: Elcio P. S. Junior RA: 262952<br>\n",
    "elciojunior@lrc.ic.unicamp.br\n",
    "\n",
    "Institute of Computing - Unicamp<br>\n",
    "First Semester 2020"
   ]
  },
  {
   "cell_type": "markdown",
   "metadata": {},
   "source": [
    "___"
   ]
  },
  {
   "cell_type": "markdown",
   "metadata": {},
   "source": [
    "### Motivação\n",
    "\n",
    "Dados recentes indicam um crescimento significativo no índice populacional de áreas urbanas, estimando que cheguemos a cerca de 70% da população mundial vivendo nos grandes centros, fazendo-se necessário um melhor planejamento e desenvolvimento de políticas públicas para gestão destas regiões. Um dos setores que  tende a sofrer com os primeiros impactos deste crescimento é o de mobilidade urbana, países como Brasil [1] já apresenta grandes desafios relacionados a este tópico. Um cenário agravante, decorrente do acúmulo de veículos em vias públicas, é o crescente número de acidentes no trânsito.\n",
    "\n",
    "Segundo dados da Pan American Health Organization - PAHO e da World Health Organization - WHO [2,3], aproximadamente 1,35 milhões de pessoas por ano não sobrevivem a este tipo de acidente o que pode chegar a custar 3% do produto interno bruto de um país. Podemos destacar que cerca de 93% das mortes ocorrem em países de maior vulnerabilidade econômica, e aqui devemos atentar-nos ao fato destas regiões concentrarem apenas 60% da frota global de veículos, fato que pode estar associado a baixa implementação de técnicas modernas de gestão de mobilidade. Outro grande fator associado à mortes e gravidade de lesões no trânsito é a demora no atendimento, neste quesito cada segundo perdido está diretamente associado ao agravamento do quadro clínico das vítimas, lembrando que tais cenários por sua natureza já apresentam problemáticas como garantia de acessibilidade e atendimento. Recentes iniciativas, como a Agenda 2030, e a lei Nº 13.614 de criação do Plano Nacional de Redução de Mortes e Lesões no Trânsito [4], têm empregado grandes esforços para o aumento da segurança neste setor, deste modo, um dos pilares deste trabalho visa abordar diretamente este assunto.\n",
    "\n",
    "Trabalhos recentes na área de Computação urbana tem empregado o uso de Redes Ad hoc Veiculares, do inglês Vehicular Ad Hoc Networks ou simplesmente VANETs, para a construção de soluções que permitam elevar a experiência de condutores e passageiros a um próximo nível. Atuando diretamente em tópicos como segurança e entretenimento tais aplicações estão baseadas no processo de comunicação entre os veículos e demais dispositivos que possam surgir neste modelo de rede. A literatura descreve este processo de comunicação em 3 modelos distintos, comunicação V2V, V2I e híbrida. Na comunicação V2V a comunicação (sempre realizada via troca de mensagens) ocorre apenas entre os veículos, uma possível forma de utilizar este tipo de comunicação seria uma aplicação embarcada no veículo para alertar ao condutor, por exemplo, veículos muito próximos, trocas de faixa ou veículos de socorro (bombeiros ou ambulâncias) ao redor deles. Na comunicação V2I não existe a troca de mensagens entre os veículos, toda a comunicação é estabelecida entre uma infraestrutura e os veículos, geralmente utiliza-se este modelo de comunicação para a prestação de recursos aos usuários, por exemplo o compartilhamento de informações específicas do local destas estruturas. E por último a comunicação híbrida, que é a junção dos modelos já citados, podendo ser utilizada para a maior variedade de aplicações.\n",
    "\n",
    "![title](img/comunicação_vanets.jpg)\n",
    "\n",
    "Ambos os modelos de comunicação são importantes para o desenvolvimento de aplicações no cenário de VANETs, cada um com suas particularidades e objetivos. Ao realizarmos uma revisão da literatura é possível observar que a comunicação V2I é constantemente utilizada por grande parte das aplicações, pelo fato da possibilidade da inserção de informações externas à rede, por exemplo, marketing e conteúdos de streaming. Porém existe um desafio em que diversos trabalhos na literatura concentram seus esforços, o de posicionamento das Road Side Unit (RSU). O custo de construção destas unidades é demasiadamente elevado, desta forma, objetiva-se a redução do custo de implementação destas estruturas frente a maximização da taxa de cobertura destas unidades, de modo a abranger uma vasta gama de veículos. Diversos trabalhos na literatura abordam este problema a fim de melhor localizar tais unidades e maximizar a taxa de cobertura.\n",
    "\n",
    "*Um segundo desafio encontrado é o dinamismo do cenário de tráfego, ou seja, em determinados períodos do dia é comum que locais próximos a densas regiões de escritórios apresentam um pico na mobilidade de veículos (horários de entrada, almoço e saída dos funcionários) e em outros períodos (por exemplo a noite) o tráfego seja praticamente nulo, índices que se invertem em regiões conhecidas como área de lazer, que apresentam os picos em horários distintos. Desta forma a utilização de modelos fixos de disseminação de informação como as RSU’s sempre serão subutilizado, dado que estas não são capazes de acompanhar esta variação.*\n",
    "\n",
    "* **A FAZER:** *Melhorar o definição do segundo desafio e colocar a revisão da literatura sobre o tema.*\n",
    "\n",
    "___\n",
    "\n",
    "### Proposta\n",
    "\n",
    "Observando o crescente avanço da utilização de drones para as mais diversas atividades e cenários, este trabalho propõe-se a utilização de UAVs (Unmanned Aerial Vehicle) para exercer o papel de RSU’s móveis, podendo assim acompanhar as variadas demandas que possam surgir. O alto poder de mobilidade destes veículos frente ao poder de processamento pode fornecer um ganho em relação à abrangência ou cobertura de modelos tradicionais de disseminação de dados baseado em estruturas, como podemos citar as RSU’s. Deste modo para este problema e projeto de disciplina, será adotado um modelo de otimização multiobjetiva, em específico o algoritmo genético multiobjetivo NSGA II (Non-Dominated Sorting Genetic Algorithm). O objetivo é determinar a taxa máxima de cobertura que pode ser obtida frente a um número mínimo de UAVs. Deste modo, a alocação de drones, que exercerão o papel das tradicionais RSUs, acompanhará as diferentes transições da mobilidade urbana presente em diferentes zonas/regiões."
   ]
  },
  {
   "cell_type": "markdown",
   "metadata": {},
   "source": [
    "___"
   ]
  },
  {
   "cell_type": "markdown",
   "metadata": {},
   "source": [
    "### Construção da Solução\n",
    "\n",
    "#### Algoritmo NSGA II\n",
    "\n",
    "![title](img/nsga.png)\n",
    "\n",
    "O modelo evolutivo adotado, como já mencionado anteriormente, foi o algoritmo NSGA, este que é um algoritmo evolutivo destinado à solução de problemas multiobjetivos. Proposto por Deb et al. em 2002 [5], uma descrição do funcionamento do algoritmo pode ser obtida a seguir:\n",
    "\n",
    "Inicialmente é criada uma população de modo aleatório (P). A partir desta população é gerada uma nova população de filhos (Q) pelo processo de reprodução e mutação implementados e comum ao modelo tradicional de algoritmos genéticos de objetivo único. A partir da população constituída de pais e filhos (R) é realizado o processo de identificação da frente de pareto (conjunto de ótimos de pareto), os indivíduos presentes nesta frente são considerados aptos a seguirem para a próxima geração (F1). Diferentemente do modelo proposto em [5], em que o tamanho da população que deve ser levada para a próxima geração é fixo, aqui foi adaptado para um modelo de intervalo, ou seja, se os indivíduos pertencentes a frente pareto for menor que um limitante inferior estes são separado e o processo de identificação da frente pareto é realizado novamente no grupo restante, gerando novos grupos (F2 e F3). Porém, caso o número de indivíduos selecionados for acima que um limitante superior é realizado um processo de seleção por agrupamento para remover os excedentes (Rejected). Se o número de indivíduos selecionados pelas frentes de pareto estiverem entre estes limitantes avançamos para a próxima geração (new P), todo o processo se repete enquanto não for atingido o número máximo de iterações ou outro critério de parada for identificado. Por fim, quando este laço de repetição é interrompido é realizado novamente a identificação de uma frente pareto, desta forma são selecionados os melhores indivíduos dentre toda a população.\n",
    "\n",
    "**OBS:**\n",
    "A utilização do limite superior e inferior, utilizados para determinação dos indivíduos aptos para próxima geração, permite uma maior variabilidade de soluções dentro de uma mesma população. Pois tais indivíduos passam a não necessariamente pertencerem a mesma frente de pareto.\n",
    "\n",
    "***Mais detalhes referentes a cada etapa descrita acima podem ser obtidos nas seções de suas respectivas implementações.***\n"
   ]
  },
  {
   "cell_type": "markdown",
   "metadata": {},
   "source": [
    "___"
   ]
  },
  {
   "cell_type": "markdown",
   "metadata": {},
   "source": [
    "### Implementação"
   ]
  },
  {
   "cell_type": "markdown",
   "metadata": {},
   "source": [
    "#### Import's necessários:"
   ]
  },
  {
   "cell_type": "code",
   "execution_count": 42,
   "metadata": {},
   "outputs": [],
   "source": [
    "import random as rd\n",
    "import numpy as np\n",
    "import math\n",
    "import time\n",
    "import matplotlib.pyplot as plt\n",
    "%matplotlib inline"
   ]
  },
  {
   "cell_type": "markdown",
   "metadata": {},
   "source": [
    "#### Mapas disponíveis:"
   ]
  },
  {
   "cell_type": "code",
   "execution_count": 43,
   "metadata": {},
   "outputs": [],
   "source": [
    "# MAPAS\n",
    "\n",
    "# MAPA 01 (50x50)\n",
    "#mapa = [ 1,1,1,1,1,1,1,1,1,1,1,1,1,1,1,1,1,1,1,1,1,1,1,1,1,1,1,1,1,1,1,1,1,1,1,1,1,1,1,1,1,1,1,1,1,1,1,1,1,1,1,0,0,0,0,0,0,0,0,1,0,0,0,0,0,0,0,0,0,1,0,0,0,0,0,0,0,0,0,1,0,0,0,0,0,0,0,0,0,1,0,0,0,0,0,0,0,0,0,1,1,0,0,0,0,0,0,0,0,1,0,0,0,0,0,0,0,0,0,1,0,0,0,0,0,0,0,0,0,1,0,0,0,0,0,0,0,0,0,1,0,0,0,0,0,0,0,0,0,1,1,0,0,0,0,0,0,0,0,1,0,0,0,0,0,0,0,0,0,1,0,0,0,0,0,0,0,0,0,1,0,0,0,0,0,0,0,0,0,1,0,0,0,0,0,0,0,0,0,1,1,0,0,0,0,0,0,0,0,1,0,0,0,0,0,0,0,0,0,1,0,0,0,0,0,0,0,0,0,1,0,0,0,0,0,0,0,0,0,1,0,0,0,0,0,0,0,0,0,1,1,0,0,0,0,0,0,0,0,1,0,0,0,0,0,0,0,0,0,1,0,0,0,0,0,0,0,0,0,1,0,0,0,0,0,0,0,0,0,1,0,0,0,0,0,0,0,0,0,1,1,0,0,0,0,0,0,0,0,1,0,0,0,0,0,0,0,0,0,1,0,0,0,0,0,0,0,0,0,1,0,0,0,0,0,0,0,0,0,1,0,0,0,0,0,0,0,0,0,1,1,0,0,0,0,0,0,0,0,1,0,0,0,0,0,0,0,0,0,1,0,0,0,0,0,0,0,0,0,1,0,0,0,0,0,0,0,0,0,1,0,0,0,0,0,0,0,0,0,1,1,0,0,0,0,0,0,0,0,1,0,0,0,0,0,0,0,0,0,1,0,0,0,0,0,0,0,0,0,1,0,0,0,0,0,0,0,0,0,1,0,0,0,0,0,0,0,0,0,1,1,0,0,0,0,0,0,0,0,1,0,0,0,0,0,0,0,0,0,1,0,0,0,0,0,0,0,0,0,1,0,0,0,0,0,0,0,0,0,1,1,1,1,1,1,1,1,1,1,1,1,0,0,0,0,0,0,0,0,1,0,0,0,0,0,0,0,0,0,1,0,0,0,0,0,0,0,0,0,1,0,0,0,0,0,0,0,0,0,1,0,0,0,0,0,0,0,0,0,1,1,0,0,0,0,0,0,0,0,1,0,0,0,0,0,0,0,0,0,1,0,0,0,0,0,0,0,0,0,1,0,0,0,0,0,0,0,0,0,1,0,0,0,0,0,0,0,0,0,1,1,0,0,0,0,0,0,0,0,1,1,1,1,1,1,1,1,1,1,1,0,0,0,0,0,0,0,0,0,1,0,0,0,0,0,0,0,0,0,1,0,0,0,0,0,0,0,0,0,1,1,0,0,0,0,0,0,0,0,1,0,0,0,0,0,0,0,0,0,1,0,0,0,0,0,0,0,0,0,1,0,0,0,0,0,0,0,0,0,1,0,0,0,0,0,0,0,0,0,1,1,0,0,0,0,0,0,0,0,1,0,0,0,0,0,0,0,0,0,1,0,0,0,0,0,0,0,0,0,1,0,0,0,0,0,0,0,0,0,1,0,0,0,0,0,0,0,0,0,1,1,0,0,0,0,0,0,0,0,1,0,0,0,0,0,0,0,0,0,1,0,0,0,0,0,0,0,0,0,1,0,0,0,0,0,0,0,0,0,1,0,0,0,0,0,0,0,0,0,1,1,0,0,0,0,0,0,0,0,1,0,0,0,0,0,0,0,0,0,1,0,0,0,0,0,0,0,0,0,1,0,0,0,0,0,0,0,0,0,1,0,0,0,0,0,0,0,0,0,1,1,0,0,0,0,0,0,0,0,1,0,0,0,0,0,0,0,0,0,1,0,0,0,0,0,0,0,0,0,1,0,0,0,0,0,0,0,0,0,1,0,0,0,0,0,0,0,0,0,1,1,0,0,0,0,0,0,0,0,1,0,0,0,0,0,0,0,0,0,1,0,0,0,0,0,0,0,0,0,1,0,0,0,0,0,0,0,0,0,1,0,0,0,0,0,0,0,0,0,1,1,0,0,0,0,0,0,0,0,1,0,0,0,0,0,0,0,0,0,1,0,0,0,0,0,0,0,0,0,1,0,0,0,0,0,0,0,0,0,1,1,1,1,1,1,1,1,1,1,1,1,0,0,0,0,0,0,0,0,1,0,0,0,0,0,0,0,0,0,1,0,0,0,0,0,0,0,0,0,1,0,0,0,0,0,0,0,0,0,1,0,0,0,0,0,0,0,0,0,1,1,0,0,0,0,0,0,0,0,1,0,0,0,0,0,0,0,0,0,1,0,0,0,0,0,0,0,0,0,1,0,0,0,0,0,0,0,0,0,1,0,0,0,0,0,0,0,0,0,1,1,0,0,0,0,0,0,0,0,1,0,0,0,0,0,0,0,0,0,1,0,0,0,0,0,0,0,0,0,1,0,0,0,0,0,0,0,0,0,1,0,0,0,0,0,0,0,0,0,1,1,0,0,0,0,0,0,0,0,1,0,0,0,0,0,0,0,0,0,1,0,0,0,0,0,0,0,0,0,1,0,0,0,0,0,0,0,0,0,1,0,0,0,0,0,0,0,0,0,1,1,1,1,1,1,1,1,1,1,1,1,1,1,1,1,1,1,1,1,1,1,1,1,1,1,1,1,1,1,1,1,1,1,1,1,1,1,1,1,1,1,1,1,1,1,1,1,1,1,1,1,0,0,0,0,0,0,0,0,1,0,0,0,0,0,0,0,0,0,1,0,0,0,0,0,0,0,0,0,1,0,0,0,0,0,0,0,0,0,1,0,0,0,0,0,0,0,0,0,1,1,0,0,0,0,0,0,0,0,1,0,0,0,0,0,0,0,0,0,1,0,0,0,0,0,0,0,0,0,1,0,0,0,0,0,0,0,0,0,1,0,0,0,0,0,0,0,0,0,1,1,0,0,0,0,0,0,0,0,1,0,0,0,0,0,0,0,0,0,1,0,0,0,0,0,0,0,0,0,1,0,0,0,0,0,0,0,0,0,1,0,0,0,0,0,0,0,0,0,1,1,0,0,0,0,0,0,0,0,1,0,0,0,0,0,0,0,0,0,1,0,0,0,0,0,0,0,0,0,1,0,0,0,0,0,0,0,0,0,1,0,0,0,0,0,0,0,0,0,1,1,0,0,0,0,0,0,0,0,1,0,0,0,0,0,0,0,0,0,1,0,0,0,0,0,0,0,0,0,1,0,0,0,0,0,0,0,0,0,1,0,0,0,0,0,0,0,0,0,1,1,0,0,0,0,0,0,0,0,1,0,0,0,0,0,0,0,0,0,1,0,0,0,0,0,0,0,0,0,1,0,0,0,0,0,0,0,0,0,1,0,0,0,0,0,0,0,0,0,1,1,0,0,0,0,0,0,0,0,1,0,0,0,0,0,0,0,0,0,1,0,0,0,0,0,0,0,0,0,1,0,0,0,0,0,0,0,0,0,1,0,0,0,0,0,0,0,0,0,1,1,0,0,0,0,0,0,0,0,1,0,0,0,0,0,0,0,0,0,1,0,0,0,0,0,0,0,0,0,1,0,0,0,0,0,0,0,0,0,1,0,0,0,0,0,0,0,0,0,1,1,0,0,0,0,0,0,0,0,1,0,0,0,0,0,0,0,0,0,1,0,0,0,0,0,0,0,0,0,1,0,0,0,0,0,0,0,0,0,1,0,0,0,0,0,0,0,0,0,1,1,1,1,1,1,1,1,1,1,1,1,1,1,1,1,1,1,1,1,1,0,0,0,0,0,0,0,0,0,1,0,0,0,0,0,0,0,0,0,1,0,0,0,0,0,0,0,0,0,1,1,0,0,0,0,0,0,0,0,1,0,0,0,0,0,0,0,0,0,1,0,0,0,0,0,0,0,0,0,1,0,0,0,0,0,0,0,0,0,1,0,0,0,0,0,0,0,0,0,1,1,0,0,0,0,0,0,0,0,1,0,0,0,0,0,0,0,0,0,1,0,0,0,0,0,0,0,0,0,1,0,0,0,0,0,0,0,0,0,1,0,0,0,0,0,0,0,0,0,1,1,0,0,0,0,0,0,0,0,1,0,0,0,0,0,0,0,0,0,1,0,0,0,0,0,0,0,0,0,1,0,0,0,0,0,0,0,0,0,1,0,0,0,0,0,0,0,0,0,1,1,0,0,0,0,0,0,0,0,1,0,0,0,0,0,0,0,0,0,1,0,0,0,0,0,0,0,0,0,1,0,0,0,0,0,0,0,0,0,1,0,0,0,0,0,0,0,0,0,1,1,0,0,0,0,0,0,0,0,1,0,0,0,0,0,0,0,0,0,1,0,0,0,0,0,0,0,0,0,1,0,0,0,0,0,0,0,0,0,1,1,1,1,1,1,1,1,1,1,1,1,0,0,0,0,0,0,0,0,1,0,0,0,0,0,0,0,0,0,1,0,0,0,0,0,0,0,0,0,1,0,0,0,0,0,0,0,0,0,1,0,0,0,0,0,0,0,0,0,1,1,0,0,0,0,0,0,0,0,1,0,0,0,0,0,0,0,0,0,1,0,0,0,0,0,0,0,0,0,1,0,0,0,0,0,0,0,0,0,1,0,0,0,0,0,0,0,0,0,1,1,0,0,0,0,0,0,0,0,1,1,1,1,1,1,1,1,1,1,1,0,0,0,0,0,0,0,0,0,1,0,0,0,0,0,0,0,0,0,1,0,0,0,0,0,0,0,0,0,1,1,0,0,0,0,0,0,0,0,1,0,0,0,0,1,0,0,0,0,1,0,0,0,0,0,0,0,0,0,1,0,0,0,0,0,0,0,0,0,1,0,0,0,0,0,0,0,0,0,1,1,0,0,0,0,0,0,0,0,1,0,0,0,0,1,0,0,0,0,1,0,0,0,0,0,0,0,0,0,1,0,0,0,0,0,0,0,0,0,1,0,0,0,0,0,0,0,0,0,1,1,0,0,0,0,0,0,0,0,1,0,0,0,0,1,0,0,0,0,1,0,0,0,0,0,0,0,0,0,1,0,0,0,0,0,0,0,0,0,1,0,0,0,0,0,0,0,0,0,1,1,0,0,0,0,0,0,0,0,1,0,0,0,0,1,0,0,0,0,1,0,0,0,0,0,0,0,0,0,1,0,0,0,0,0,0,0,0,0,1,0,0,0,0,0,0,0,0,0,1,1,0,0,0,0,0,0,0,0,1,0,0,0,0,1,0,0,0,0,1,0,0,0,0,0,0,0,0,0,1,0,0,0,0,0,0,0,0,0,1,0,0,0,0,0,0,0,0,0,1,1,0,0,0,0,0,0,0,0,1,0,0,0,0,1,0,0,0,0,1,0,0,0,0,0,0,0,0,0,1,0,0,0,0,0,0,0,0,0,1,0,0,0,0,0,0,0,0,0,1,1,1,1,1,1,1,1,1,1,1,1,1,1,1,1,1,1,1,1,1,1,1,1,1,1,1,1,1,1,1,1,1,1,1,1,1,1,1,1,1,1,1,1,1,1,1,1,1,1,1]\n",
    "\n",
    "# MAPA 02 (20x20)\n",
    "mapa = [1,1,1,1,1,1,1,1,1,1,1,1,1,1,1,1,1,1,1,1,1,1,0,0,0,0,1,0,0,0,0,1,0,0,0,0,1,0,0,0,0,1,1,0,0,0,0,1,0,0,0,0,1,0,0,0,0,1,0,0,0,0,1,1,0,0,0,0,1,0,0,0,0,1,1,1,1,1,1,0,0,0,0,1,1,1,1,1,1,1,0,0,0,0,1,0,0,0,0,1,0,0,0,0,1,1,0,0,0,0,1,0,0,0,0,1,0,0,0,0,1,0,0,0,0,1,1,0,0,0,0,1,0,0,0,0,1,0,0,0,0,1,0,0,0,0,1,1,0,0,0,0,1,0,0,0,0,1,0,0,0,0,1,0,0,0,0,1,1,0,0,0,0,1,0,0,0,0,1,0,0,0,0,1,0,0,0,0,1,1,1,1,1,1,1,1,1,1,1,1,1,1,1,1,1,1,1,1,1,1,1,0,0,0,0,1,0,0,0,0,1,0,0,0,0,1,0,0,0,0,1,1,0,0,0,0,1,0,0,0,0,1,0,0,0,0,1,0,0,0,0,1,1,0,0,0,0,1,0,0,0,0,1,0,0,0,0,1,0,0,0,0,1,1,0,0,0,0,1,0,0,0,0,1,0,0,0,0,1,0,0,0,0,1,1,0,0,0,0,1,0,0,0,0,1,1,1,1,1,1,1,1,1,1,1,1,0,0,0,0,1,0,0,0,0,1,0,0,0,0,1,0,0,0,0,1,1,0,0,0,0,1,0,0,0,0,1,0,0,0,0,1,0,0,0,0,1,1,0,0,0,0,1,0,0,0,0,1,0,0,0,0,1,0,0,0,0,1,1,0,0,0,0,1,0,0,0,0,1,0,0,0,0,1,0,0,0,0,1,1,1,1,1,1,1,1,1,1,1,1,1,1,1,1,1,1,1,1,1,1]"
   ]
  },
  {
   "cell_type": "markdown",
   "metadata": {},
   "source": [
    "| Object  |  Num. Map  |\n",
    "|---------|------------|\n",
    "|  grass  |      0     |\n",
    "|  lane   |      1     |\n",
    "\n",
    "Alguns trabalhos na literatura abordam a utilização de uma representação simplificada da topologia das rodovias. O processo consiste em segmentar o mapa em células adjacentes e de mesma dimensão (representação em grid). Os benefícios em se utilizar este modelo de representação são:\n",
    "\n",
    "* Controle de precisão;\n",
    "* Complexidade computacional;\n",
    "* Complexidade de solução.\n",
    "\n",
    "Este modelo nos permite um maior controle sobre a precisão exigida no problema, ou seja, com a variação do tamanho das células é possível obter uma variação no nível de detalhes inerentes ao cenário. Desta forma, a exigência computacional também pode ser reduzida, tendo em vista que a complexidade da solução funciona do mesmo modo para representações de diferentes níveis de detalhes.\n",
    "\n",
    "Foram utilizadas duas representações de malhas viárias:\n",
    "\n",
    "* Mapa 01: 5 Km\n",
    "* Mapa 02: 2 Km\n",
    "\n",
    "Em ambos os mapas cada célula representam 100m, deste modo, no Mapa_01 temos um grid 50x50 e no Mapa_02 um grid 20x20."
   ]
  },
  {
   "cell_type": "markdown",
   "metadata": {},
   "source": [
    "#### Representação da Solução (Indivíduos)\n",
    "\n",
    "Para este trabalho foi utilizada a seguinte representação:\n",
    "\n",
    "![title](img/chromo.png)\n",
    "\n",
    "É utilizado um vetor de tamanho fixo, onde cada item deste vetor representa a posição ao qual o drone deve ser alocado. O valor zero em uma determinada posição indica que um drone foi removido da solução, sendo a maximização destas remoções um dos objetivos do problema.\n"
   ]
  },
  {
   "cell_type": "markdown",
   "metadata": {},
   "source": [
    "#### Funções base do algoritmo genético\n",
    "\n",
    "Destaque para as funções:\n",
    "\n",
    "`crossover`\n",
    "\n",
    "Esta função implementa dois modelos de reprodução entre um par de genes.\n",
    "\n",
    "![title](img/crossover.png)\n",
    "\n",
    "* **(1)** A primeira implementação realiza o crossover baseado em um ponto de corte, onde este é obtido de modo aleatório, desta forma existe a oportunidade da geração de uma maior variabilidade entre os próprios indivíduos de uma mesma geração.\n",
    "\n",
    "* **(2)** A segunda implementação também dá origem a dois novos indivíduos, porém o modelo implementado utiliza 2 pontos de corte, as 3 seções geradas com estes pontos de corte correspondem a 1/3 de cada gene, sendo combinados alternadamente entre gene_a e gen_b.\n",
    "\n",
    "\n",
    "`mutation`\n",
    "\n",
    "Dada a natureza do problema, foram implementados dois modelos de mutação, onde cada uma das abordagens atua de forma isolada em cada objetivo de otimização.\n",
    "\n",
    "![title](img/mutation.png)\n",
    "\n",
    "* **(1)** A primeira implementação baseia-se no objetivo de redução dos drones que serão utilizados, uma posição aleatória é selecionada em uma solução e é substituída pelo valor zero, este que representa a ausência de um drone na solução.\n",
    "* **(2)** Para a segunda abordagem, a função atua na alteração da posição de um drone, após obtermos uma posição aleatória esta é alterada por outro local no mapa."
   ]
  },
  {
   "cell_type": "code",
   "execution_count": 146,
   "metadata": {},
   "outputs": [],
   "source": [
    "#Cria um conjunto de soluções iniciais de modo aleatório\n",
    "# Entrada: tamanho do cromossomo, extenssão da via rodoviária,\n",
    "#          número de soluções iniciais\n",
    "def create_population():\n",
    "\n",
    "    population = []\n",
    "    for i in range(starting_population_size):\n",
    "        population.append(np.array(rd.sample(range(0,map_size), chromosome_size)))\n",
    "\n",
    "    return np.array(population)\n",
    "\n",
    "#Reprodução por crossover 01\n",
    "def crossover(gen_a, gen_b):\n",
    "\n",
    "    # TIPO 1:\n",
    "    # PONTO DE CORTE ALEATÓRIO\n",
    "    point = rd.randint(1,len(gen_a)-1)\n",
    "    children_a = np.hstack((gen_a[0:point],gen_b[point:]))\n",
    "    children_b = np.hstack((gen_b[0:point],gen_a[point:]))\n",
    "    \n",
    "    # TIPO 2:\n",
    "    # PONTO DE DUPLO DE CORTE\n",
    "    #point = int(len(gen_a)/3)\n",
    "    #children_a = np.hstack((gen_a[0:point],gen_b[point:point*2],gen_a[point*2:]))\n",
    "    #children_b = np.hstack((gen_b[0:point],gen_a[point:point*2],gen_b[point*2:]))\n",
    "  \n",
    "    return children_a, children_b\n",
    "\n",
    "def mutation(population):\n",
    "    \n",
    "    # TIPO 1:\n",
    "    # REMOVE UM DRONE DA SOLUÇÃO\n",
    "    for indvidual in pop:\n",
    "        if (rd.uniform(0, 1) <= prob_mutation):\n",
    "            point_mutation = rd.randint(0, len(indvidual)-1)\n",
    "            individual[point_mutation] = 0\n",
    "    \n",
    "    # TIPO 2:\n",
    "    # ALTERA A POSIÇÃO DE UM DRONE\n",
    "    #for indvidual in pop:\n",
    "    #    if (rd.uniform(0, 1) <= prob_mutation):\n",
    "    #        point_mutation = rd.randint(0, len(indvidual)-1)\n",
    "    #        new_value_to_mutate = rd.randint(0, map_size)\n",
    "    #        individual[point_mutation] = new_value_to_mutate\n",
    "    return population\n",
    "\n",
    "def new_generation(population):\n",
    "\n",
    "    reprodution_list = rd.sample(range(0,len(population)-1), int(len(population)/2))\n",
    "    new_population = []\n",
    "    for i in range(1,int(len(population)/2)):\n",
    "        child_a, child_b = crossover(population[reprodution_list[i-1]],population[reprodution_list[i]])\n",
    "        new_population.append(child_a)\n",
    "        new_population.append(child_b)\n",
    "  \n",
    "    #Eliminando os individuos repetidos\n",
    "    population = np.vstack((population, np.array(new_population)))\n",
    "    population = np.unique(population, axis=0)\n",
    "\n",
    "    return population"
   ]
  },
  {
   "cell_type": "markdown",
   "metadata": {},
   "source": [
    "#### Funções de avaliação\n",
    "\n",
    "As funções a seguir são utilizadas para calcular o fitness de cada solução gerada:\n",
    "\n",
    "* `function_01`\n",
    "\n",
    "Nesta função é calculada a quantidade de células do mapa que apresentam unidades de rodovia e são cobertas por um drone. Os drones em geral possuem um raio de cobertura (valor definido nos parâmetros iniciais de execução), valor este utilizado para realização do cálculo da distância entre a posição do drone e os demais trechos da rodovia. Para o cálculo é utilizada a distância Euclidiana:\n",
    "\n",
    "Dados os vetores,\n",
    "\n",
    "![title](img/h_002.svg)\n",
    "\n",
    "temos,\n",
    "\n",
    "![title](img/h_003.svg)\n",
    "\n",
    "* `function_02`\n",
    "\n",
    "A segunda função apenas realiza uma verificação sobre quantos drones estão ausentes na solução. Dada a característica do algoritmo genético de maximizar as funções objetivo, o algoritmo tenta maximizar esta retirada. Um ajuste neste valor é realizado antes de exibir as soluções, passando a exibir os drones presentes na solução e não mais os que estão ausentes.\n"
   ]
  },
  {
   "cell_type": "code",
   "execution_count": 45,
   "metadata": {},
   "outputs": [],
   "source": [
    "#Funções a serem maximizadas\n",
    "# Function 1 - verifica a cobertura das road units\n",
    "def function_01(chromo):\n",
    "  \n",
    "    road_units_true = []\n",
    "  \n",
    "    for road_unit in road_units:\n",
    "        for i in range(len(chromo)):\n",
    "            if(not chromo[i] == 0):\n",
    "                x, y = get_xy_position(chromo[i])\n",
    "                distance = math.sqrt( (road_unit[1]-x)**2 + (road_unit[2]-y)**2 )\n",
    "                if(distance<=uav_range):\n",
    "                    road_units_true.append(road_unit[0])\n",
    "    \n",
    "    road_units_true = np.array(road_units_true)\n",
    "    road_units_true = np.unique(road_units_true, axis=0)\n",
    "\n",
    "    return len(road_units_true)\n",
    "\n",
    "# Function 2 - verifica quantos drones foram usados\n",
    "def function_02(chromo):\n",
    "    return np.count_nonzero(chromo == 0)\n",
    "\n",
    "# Neste projeto o nosso objetivo é maximizar a cobertura (func. 01)\n",
    "# e minimizar o numero de drones necessários (func. 02)\n",
    "\n",
    "def calc_score_pop(population):\n",
    "    score = []\n",
    "    for chromosome in population:\n",
    "        score.append([function_01(chromosome), function_02(chromosome)])\n",
    "    return np.array(score)\n",
    "\n",
    "def get_road_unit():\n",
    "    road_units = []\n",
    "    for i in range(0,len(mapa)):\n",
    "        if(mapa[i] == 1):\n",
    "            x, y = get_xy_position(i)\n",
    "            pos = i+1\n",
    "            road_units.append( (pos, x, y) )\n",
    "    return road_units\n",
    "\n",
    "def get_xy_position(pos):\n",
    "    x = int(pos/max_dim)\n",
    "    y = pos-(x*max_dim)\n",
    "    return x, y"
   ]
  },
  {
   "cell_type": "markdown",
   "metadata": {},
   "source": [
    "#### Eficiência de Pareto\n",
    "\n",
    "![title](img/pareto.png)\n",
    "\n",
    "Para utilizarmos o algoritmo genético com múltiplos objetivos é necessário adotar um modelo de análise conjunto. Uma solução é a utilização da eficiência de pareto ou frente de pareto, esta abordagem define uma fronteira baseada no compromisso entre os múltiplos objetivos, este compromisso está definido pelo fato de não ser possível aprimorar um sem piorar os demais. As funções a seguir são utilizadas para identificar e armazenar as frentes de pareto."
   ]
  },
  {
   "cell_type": "code",
   "execution_count": 46,
   "metadata": {},
   "outputs": [],
   "source": [
    "#PARETO\n",
    "def identify_pareto(scores, population_ids):\n",
    "\n",
    "    population_size = scores.shape[0]\n",
    "    pareto_front = np.ones(population_size, dtype=bool)\n",
    "    for i in range(population_size):\n",
    "        for j in range(population_size):\n",
    "            if all(scores[j] >= scores[i]) and any(scores[j] > scores[i]):\n",
    "                pareto_front[i] = 0\n",
    "                break\n",
    "\n",
    "    return population_ids[pareto_front]\n",
    "\n",
    "def build_pareto_population(population, scores, minimum_population_size, maximum_population_size):\n",
    "  \n",
    "    unselected_population_ids = np.arange(population.shape[0])\n",
    "    all_population_ids = np.arange(population.shape[0])\n",
    "    pareto_front = []\n",
    "  \n",
    "    while len(pareto_front) < minimum_population_size:\n",
    "\n",
    "        temp_pareto_front = identify_pareto(scores[unselected_population_ids, :], unselected_population_ids)\n",
    "        combined_pareto_size = len(pareto_front) + len(temp_pareto_front)\n",
    "    \n",
    "        if combined_pareto_size > maximum_population_size:\n",
    "            number_to_select = combined_pareto_size - maximum_population_size\n",
    "            selected_individuals = (reduce_by_crowding(scores[temp_pareto_front], number_to_select))\n",
    "            temp_pareto_front = temp_pareto_front[selected_individuals]\n",
    "        \n",
    "        pareto_front = np.hstack((pareto_front, temp_pareto_front))\n",
    "\n",
    "        unselected_set = set(all_population_ids) - set(pareto_front)\n",
    "        unselected_population_ids = np.array(list(unselected_set))\n",
    "\n",
    "    population = population[pareto_front.astype(int)]\n",
    "\n",
    "    return population"
   ]
  },
  {
   "cell_type": "markdown",
   "metadata": {},
   "source": [
    "#### Agrupamento e Torneio\n",
    "\n",
    "Como estamos utilizando a frente de pareto não é possível fazer uma seleção simplificada de indivíduos que passarão para a próxima geração, um exemplo de seleção simplificado seria rankear cada solução e eliminar os com menor aptidão, porém como todos os indivíduos pertencem a uma frente pareto, não existe um indivíduo que se sobressai aos demais. Deste modo, para realizar a seleção das gerações foi utilizado o método de agrupamento junto a um processo de torneio.\n",
    "\n",
    "Exemplificando, é realizado o processo de agrupamento baseando-se na distância entre os vizinhos de cada indivíduo. Após este processo dá-se início a etapa de torneio, onde são selecionados 2 indivíduos de modo aleatório e são comparadas suas distâncias de agrupamento, os que apresentarem maior valor de distância são selecionados para a próxima etapa.\n",
    "\n",
    "![title](img/crowding.png)\n",
    "**Figura:** A imagem acima ilustra uma frente pareto após o processo de agrupamento e torneio."
   ]
  },
  {
   "cell_type": "code",
   "execution_count": 47,
   "metadata": {},
   "outputs": [],
   "source": [
    "def crowding(scores):\n",
    "\n",
    "    pop_size = len(scores[:,0])\n",
    "    num_score = len(scores[0,:])\n",
    "  \n",
    "    matrix_crowding = np.zeros((pop_size, num_score))\n",
    "    #normalizando os scores\n",
    "    normed_scores = ( scores-scores.min(0) ) / scores.ptp(0)\n",
    "\n",
    "    for col in range(num_score):\n",
    "        crowding = np.zeros(pop_size)\n",
    "\n",
    "        crowding[0] = 1\n",
    "        crowding[pop_size - 1] = 1\n",
    "\n",
    "        sorted_scores = np.sort(normed_scores[:, col])\n",
    "        sorted_scores_index = np.argsort(normed_scores[:, col])\n",
    "        crowding[1:pop_size - 1] = (sorted_scores[2:pop_size] - sorted_scores[0:pop_size - 2])\n",
    "        re_sort_order = np.argsort(sorted_scores_index)\n",
    "        sorted_crowding = crowding[re_sort_order]\n",
    "        matrix_crowding[:, col] = sorted_crowding\n",
    "\n",
    "    crowding_distances = np.sum(matrix_crowding, axis=1)\n",
    "\n",
    "    return crowding_distances\n",
    "\n",
    "#Torneio\n",
    "def reduce_by_crowding(scores, number_to_select):\n",
    "  \n",
    "    population_ids = np.arange(scores.shape[0])\n",
    "    crowding_distances = crowding(scores)\n",
    "    picked_population_ids = np.zeros((number_to_select))\n",
    "    picked_scores = np.zeros((number_to_select, len(scores[0, :])))\n",
    "\n",
    "    for i in range(number_to_select):\n",
    "\n",
    "        population_size = population_ids.shape[0]\n",
    "        fighter1ID = rd.randint(0, population_size - 1)\n",
    "        fighter2ID = rd.randint(0, population_size - 1)\n",
    "\n",
    "        if crowding_distances[fighter1ID] >= crowding_distances[fighter2ID]:\n",
    "            picked_population_ids[i] = population_ids[fighter1ID]\n",
    "            picked_scores[i, :] = scores[fighter1ID, :]\n",
    "            population_ids = np.delete(population_ids, (fighter1ID),axis=0)\n",
    "            scores = np.delete(scores, (fighter1ID), axis=0)\n",
    "            crowding_distances = np.delete(crowding_distances, (fighter1ID),axis=0)\n",
    "        else:\n",
    "            picked_population_ids[i] = population_ids[fighter2ID]\n",
    "            picked_scores[i, :] = scores[fighter2ID, :]\n",
    "            population_ids = np.delete(population_ids, (fighter2ID), axis=0)\n",
    "            scores = np.delete(scores, (fighter2ID), axis=0)\n",
    "            crowding_distances = np.delete(crowding_distances, (fighter2ID), axis=0)\n",
    "\n",
    "    picked_population_ids = np.asarray(picked_population_ids, dtype=int)\n",
    "\n",
    "    return (picked_population_ids)"
   ]
  },
  {
   "cell_type": "markdown",
   "metadata": {},
   "source": [
    "#### Algoritmo NSGA II\n",
    "\n",
    "Implementação do ciclo de ações do NSGA II"
   ]
  },
  {
   "cell_type": "code",
   "execution_count": 99,
   "metadata": {},
   "outputs": [],
   "source": [
    "# Main do Algorítmo\n",
    "def NSGA_II():\n",
    "    population = create_population()\n",
    "    \n",
    "    print(\"=========================\")\n",
    "    print(\"==========START==========\")\n",
    "    print(\"=========================\")\n",
    "    \n",
    "    global_time = time.time()\n",
    "    for generation in range(maximum_generation):\n",
    "        \n",
    "        if(((time.time() - global_time)/60) > time_execution and time_execution != 0):\n",
    "            print((time.time() - global_time)/60)\n",
    "            break\n",
    "        \n",
    "\n",
    "        #start_time = time.time()\n",
    "        if(generation+1 % 5 == 0):\n",
    "            print(str(generation+1)+\"º Geração\")\n",
    "            print(\"-------------------------\")\n",
    "\n",
    "        population = new_generation(population)\n",
    "\n",
    "        scores = calc_score_pop(population)\n",
    "\n",
    "        population = build_pareto_population(population, scores, minimum_population_size, maximum_population_size)\n",
    "\n",
    "        #end_time = time.time()-start_time\n",
    "        #print(\"EPOCH TIME: \"+str(end_time))\n",
    "\n",
    "    scores = calc_score_pop(population)\n",
    "    population_ids = np.arange(population.shape[0]).astype(int)\n",
    "    pareto_front = identify_pareto(scores, population_ids)\n",
    "    population = population[pareto_front, :]\n",
    "    scores = scores[pareto_front]\n",
    "    \n",
    "    print(\"=========================\")\n",
    "    \n",
    "    \n",
    "    end_global_time = time.time()-global_time\n",
    "    print(\"EXECUTION TIME: \"+str(round(end_global_time/60, 2)))\n",
    "\n",
    "    return scores, population"
   ]
  },
  {
   "cell_type": "markdown",
   "metadata": {},
   "source": [
    "#### Parâmetros de Controle\n",
    "\n",
    "Estes são os parâmetros de controle de execução do algoritmo:\n",
    "\n",
    "* **map_size**, tamanho do mapa que está sendo utilizado;\n",
    "* **max_dim**, dimensões da matriz obtida através do mapa;\n",
    "* **road_units**, este parâmetro informa quantas unidades de pista existem no mapa (utilizado para otimização do algoritmo);\n",
    "* **uav_range**, raio de alcance dos drones;\n",
    "* **chromosome_size**, tamanho do cromossomo ou indivíduo, também representa o número máximo de drones disponíveis para construção de uma solução;\n",
    "* **prob_mutation**, probabilidade de um indivíduo sofrer mutação;\n",
    "* **starting_population_size**, população inicial gerada aleatoriamente;\n",
    "* **maximum_generation**, número máximo de gerações que serão executadas caso não haja ou não ocorra um critério de parada;\n",
    "* **minimum_population_size**, limite mínimo de indivíduos que passarão para a proxima geração;\n",
    "* **maximum_population_size**, limite máximo de indivíduos que passarão para a proxima geração;\n",
    "* **time_execution**, critério de parada baseado no tempo máximo de execução, caso o valor atribuido a este parâmetro for zero, o algorítmo não considera o tempo de execução. \n",
    "\n",
    "**OBS:** A necessidade de alguns parâmetros foi observada durante o período de testes do algoritmo, por exemplo, o critério de para ***time_execution*** foi estipulado ao ocorrerem execuções em que, dado mapas maiores e mais complexos, o algoritmo gastou aproximadamente 3 horas de execução, fator que pode tornar a aplicação inviável dependendo do objetivo ao qual forem utilizá-la."
   ]
  },
  {
   "cell_type": "code",
   "execution_count": 49,
   "metadata": {},
   "outputs": [],
   "source": [
    "# Parâmetros\n",
    "\n",
    "# Mapas e Drones\n",
    "map_size = len(mapa)\n",
    "max_dim = math.sqrt(map_size)\n",
    "road_units = get_road_unit()\n",
    "uav_range = 3\n",
    "\n",
    "# Algoritmo Genético\n",
    "chromosome_size = 10\n",
    "prob_mutation = 0.7\n",
    "starting_population_size = 2000\n",
    "maximum_generation = 100\n",
    "minimum_population_size = 100\n",
    "maximum_population_size = 500\n",
    "time_execution = 0"
   ]
  },
  {
   "cell_type": "markdown",
   "metadata": {},
   "source": [
    "#### Execução do algoritmo\n",
    "\n",
    "Ao executarmos o algoritmo, a função ***NSGA_II***, ter-se-á como retorno tanto a pontuação, quanto os indivíduos de maior aptidão encontrados durante a execução do programa."
   ]
  },
  {
   "cell_type": "code",
   "execution_count": null,
   "metadata": {},
   "outputs": [],
   "source": [
    "scores, population = NSGA_II()"
   ]
  },
  {
   "cell_type": "markdown",
   "metadata": {},
   "source": [
    "#### Exibição\n",
    "\n",
    "Esta função foi criada para exibir graficamente os resultados obtidos. Os gráficos gerados exibem a relação entre a taxa de cobertura obtida em função do número de drones utilizados. A função também salva os gráficos gerados."
   ]
  },
  {
   "cell_type": "code",
   "execution_count": 78,
   "metadata": {},
   "outputs": [],
   "source": [
    "# PLOT DOS DADOS\n",
    "def plot_graph(scores, name, scale):\n",
    "    x = chromosome_size - scores[:, 1]\n",
    "    y = scores[:, 0]/len(road_units)*100\n",
    "\n",
    "    plt.title(\"Taxa de cobertura em função do número de drones\")\n",
    "    plt.ylabel('Cobertura máxima obtida - %')\n",
    "    plt.xlabel('Drones utilizados')\n",
    "\n",
    "    plt.yticks(range(0, 101, scale))\n",
    "    plt.xticks(range(0, chromosome_size+1))\n",
    "\n",
    "\n",
    "    plt.scatter(x,y)\n",
    "    plt.savefig(name, format='png')\n",
    "    plt.show()"
   ]
  },
  {
   "cell_type": "markdown",
   "metadata": {},
   "source": [
    "___"
   ]
  },
  {
   "cell_type": "markdown",
   "metadata": {},
   "source": [
    "### Soluções\n",
    "\n",
    "Parâmetros a serem analisados:\n",
    "\n",
    "* Tamanho da população\n",
    "* Critérios de parada\n",
    "* Técnica de crossover\n",
    "* Técnica de mutação\n",
    "* Taxa de mutação\n",
    "* Taxa de crossover\n",
    "\n",
    "Para todas as execuções realizadas a seguir, os parâmetros referentes aos mapas e aos drones não foram alterados.\n",
    "\n",
    "***OBS:*** A definição do raio de cobertura de um drone foi estipulado sendo de 300m devido a observação durante os teste. Devido às dimensões do mapa, este valor apresentou-se como uma boa opção, porém o mesmo pode ser alterado para representar os mais variados modelos de drones e suas capacidades de vôo. "
   ]
  },
  {
   "cell_type": "code",
   "execution_count": 51,
   "metadata": {},
   "outputs": [],
   "source": [
    "map_size = len(mapa)\n",
    "max_dim = math.sqrt(map_size)\n",
    "road_units = get_road_unit()\n",
    "uav_range = 3"
   ]
  },
  {
   "cell_type": "markdown",
   "metadata": {},
   "source": [
    "#### Tamanho da População"
   ]
  },
  {
   "cell_type": "code",
   "execution_count": 56,
   "metadata": {},
   "outputs": [],
   "source": [
    "# Algoritmo Genético\n",
    "chromosome_size = 15\n",
    "prob_mutation = 0.7\n",
    "maximum_generation = 150\n",
    "time_execution = 0\n",
    "\n",
    "# MUTAÇÃO: Tipo (1), remoção de drone\n",
    "# REPRODUÇÃO: Tipo (1), ponto aleatório"
   ]
  },
  {
   "cell_type": "code",
   "execution_count": 74,
   "metadata": {},
   "outputs": [
    {
     "name": "stdout",
     "output_type": "stream",
     "text": [
      "=========================\n",
      "==========START==========\n",
      "=========================\n",
      "=========================\n",
      "EXECUTION TIME: 8.89\n"
     ]
    }
   ],
   "source": [
    "starting_population_size = 2000\n",
    "minimum_population_size = 50\n",
    "maximum_population_size = 450\n",
    "\n",
    "scores, population = NSGA_II()"
   ]
  },
  {
   "cell_type": "code",
   "execution_count": 79,
   "metadata": {},
   "outputs": [
    {
     "data": {
      "image/png": "[encoded data removed]",
      "text/plain": [
       "<Figure size 432x288 with 1 Axes>"
      ]
     },
     "metadata": {
      "needs_background": "light"
     },
     "output_type": "display_data"
    }
   ],
   "source": [
    "plot_graph(scores, \"tm_pop_01\", 2)"
   ]
  },
  {
   "cell_type": "markdown",
   "metadata": {},
   "source": [
    "Para a segunda execução, o intervalo entre o limite superior e inferior foi ampliado, proporcionando um maior numero de indivíduos por geração. O tamanho da população inicial também foi alterado, tendo em vista que o tamanho da população ao decorrer das gerações seria maior."
   ]
  },
  {
   "cell_type": "code",
   "execution_count": 80,
   "metadata": {},
   "outputs": [
    {
     "name": "stdout",
     "output_type": "stream",
     "text": [
      "=========================\n",
      "==========START==========\n",
      "=========================\n",
      "=========================\n",
      "EXECUTION TIME: 13.18\n"
     ]
    }
   ],
   "source": [
    "starting_population_size = 1000\n",
    "minimum_population_size = 100\n",
    "maximum_population_size = 750\n",
    "\n",
    "scores, population = NSGA_II()"
   ]
  },
  {
   "cell_type": "code",
   "execution_count": 82,
   "metadata": {},
   "outputs": [
    {
     "data": {
      "image/png": "[encoded data removed]",
      "text/plain": [
       "<Figure size 432x288 with 1 Axes>"
      ]
     },
     "metadata": {
      "needs_background": "light"
     },
     "output_type": "display_data"
    }
   ],
   "source": [
    "plot_graph(scores, \"tm_pop_02\", 2)"
   ]
  },
  {
   "cell_type": "markdown",
   "metadata": {},
   "source": [
    "#### Critérios de parada"
   ]
  },
  {
   "cell_type": "code",
   "execution_count": 83,
   "metadata": {},
   "outputs": [],
   "source": [
    "# Algoritmo Genético\n",
    "chromosome_size = 15\n",
    "prob_mutation = 0.7\n",
    "maximum_generation = 150\n",
    "\n",
    "# MUTAÇÃO: Tipo (1), remoção de drone\n",
    "# REPRODUÇÃO: Tipo (1), ponto aleatório"
   ]
  },
  {
   "cell_type": "code",
   "execution_count": 84,
   "metadata": {},
   "outputs": [],
   "source": [
    "starting_population_size = 2000\n",
    "minimum_population_size = 50\n",
    "maximum_population_size = 450"
   ]
  },
  {
   "cell_type": "markdown",
   "metadata": {},
   "source": [
    "Quando executado nestas configurações, o tempo de execução do algorítmo foi de 8.89 miniutos. Deste modo, para avalia a utilização do criterio de parada, o algorítmo será executado novamente utilizando as mesmas configuraçãoes, porém o tempo de execução sera limitado a 4 minutos."
   ]
  },
  {
   "cell_type": "code",
   "execution_count": 89,
   "metadata": {},
   "outputs": [
    {
     "name": "stdout",
     "output_type": "stream",
     "text": [
      "=========================\n",
      "==========START==========\n",
      "=========================\n",
      "4.013764305909475\n",
      "=========================\n",
      "EXECUTION TIME: 4.04\n"
     ]
    }
   ],
   "source": [
    "time_execution = 4\n",
    "\n",
    "scores, population = NSGA_II()"
   ]
  },
  {
   "cell_type": "code",
   "execution_count": 91,
   "metadata": {},
   "outputs": [
    {
     "data": {
      "image/png": "[encoded data removed]",
      "text/plain": [
       "<Figure size 432x288 with 1 Axes>"
      ]
     },
     "metadata": {
      "needs_background": "light"
     },
     "output_type": "display_data"
    }
   ],
   "source": [
    "plot_graph(scores, \"time_01\", 2)"
   ]
  },
  {
   "cell_type": "markdown",
   "metadata": {},
   "source": [
    "Execução com a metado do tempo anterior, 2 minutos."
   ]
  },
  {
   "cell_type": "code",
   "execution_count": 92,
   "metadata": {},
   "outputs": [
    {
     "name": "stdout",
     "output_type": "stream",
     "text": [
      "=========================\n",
      "==========START==========\n",
      "=========================\n",
      "2.035442952315013\n",
      "=========================\n",
      "EXECUTION TIME: 2.06\n"
     ]
    }
   ],
   "source": [
    "time_execution = 2\n",
    "\n",
    "scores, population = NSGA_II()"
   ]
  },
  {
   "cell_type": "code",
   "execution_count": 94,
   "metadata": {},
   "outputs": [
    {
     "data": {
      "image/png": "[encoded data removed]",
      "text/plain": [
       "<Figure size 432x288 with 1 Axes>"
      ]
     },
     "metadata": {
      "needs_background": "light"
     },
     "output_type": "display_data"
    }
   ],
   "source": [
    "plot_graph(scores, \"time_02\", 1)"
   ]
  },
  {
   "cell_type": "markdown",
   "metadata": {},
   "source": [
    "#### Técnica de crossover"
   ]
  },
  {
   "cell_type": "code",
   "execution_count": 108,
   "metadata": {},
   "outputs": [],
   "source": [
    "# Algoritmo Genético\n",
    "chromosome_size = 15\n",
    "prob_mutation = 0.7\n",
    "maximum_generation = 150\n",
    "time_execution = 0\n",
    "\n",
    "# MUTAÇÃO: Tipo (1), remoção de drone"
   ]
  },
  {
   "cell_type": "code",
   "execution_count": 98,
   "metadata": {},
   "outputs": [],
   "source": [
    "starting_population_size = 2000\n",
    "minimum_population_size = 50\n",
    "maximum_population_size = 450"
   ]
  },
  {
   "cell_type": "markdown",
   "metadata": {},
   "source": [
    "Durante todos os testes a técnica de crossover utilizada é a tipo 1, ponto aleatório. Para avaliar o tipo 2 de reprodução, que apresenta dois pontos de corte, os parametros de execução serão mantidos."
   ]
  },
  {
   "cell_type": "code",
   "execution_count": 102,
   "metadata": {},
   "outputs": [
    {
     "name": "stdout",
     "output_type": "stream",
     "text": [
      "=========================\n",
      "==========START==========\n",
      "=========================\n",
      "=========================\n",
      "EXECUTION TIME: 8.1\n"
     ]
    }
   ],
   "source": [
    "scores, population = NSGA_II()"
   ]
  },
  {
   "cell_type": "code",
   "execution_count": 103,
   "metadata": {},
   "outputs": [
    {
     "data": {
      "image/png": "[encoded data removed]",
      "text/plain": [
       "<Figure size 432x288 with 1 Axes>"
      ]
     },
     "metadata": {
      "needs_background": "light"
     },
     "output_type": "display_data"
    }
   ],
   "source": [
    "plot_graph(scores, \"cross_02\", 2)"
   ]
  },
  {
   "cell_type": "markdown",
   "metadata": {},
   "source": [
    "#### Técnica de mutação\n",
    "\n",
    "Para realizar os teste nesta seção foi novamente utilizado o modelo de reprocução do tipo 1, de ponto de corte aleatório. Os parâmetros foram mantidos, alterando-se apenas a tecnica de mutação, entre remoção de drone da solução (tipo 1) e nova posição aleatória (tipo 2)."
   ]
  },
  {
   "cell_type": "code",
   "execution_count": 109,
   "metadata": {},
   "outputs": [],
   "source": [
    "# Algoritmo Genético\n",
    "chromosome_size = 15\n",
    "prob_mutation = 0.7\n",
    "maximum_generation = 150\n",
    "time_execution = 0\n",
    "\n",
    "# REPRODUÇÃO: Tipo (1), ponto aleatório"
   ]
  },
  {
   "cell_type": "code",
   "execution_count": 110,
   "metadata": {},
   "outputs": [],
   "source": [
    "starting_population_size = 2000\n",
    "minimum_population_size = 50\n",
    "maximum_population_size = 450"
   ]
  },
  {
   "cell_type": "markdown",
   "metadata": {},
   "source": [
    "Uma execução com os mesmos parâmetros já foi realizada anteriormente com o modelo de mutação 1.\n",
    "\n",
    "**OBS:** Para alterar entre os modelos de reprodução e mutação, basta alterar as seções comentadas nas respectivas funções.\n",
    "\n",
    "Mutação Tipo 2:"
   ]
  },
  {
   "cell_type": "code",
   "execution_count": 111,
   "metadata": {},
   "outputs": [
    {
     "name": "stdout",
     "output_type": "stream",
     "text": [
      "=========================\n",
      "==========START==========\n",
      "=========================\n",
      "=========================\n",
      "EXECUTION TIME: 8.21\n"
     ]
    }
   ],
   "source": [
    "scores, population = NSGA_II()"
   ]
  },
  {
   "cell_type": "code",
   "execution_count": 112,
   "metadata": {},
   "outputs": [
    {
     "data": {
      "image/png": "[encoded data removed]",
      "text/plain": [
       "<Figure size 432x288 with 1 Axes>"
      ]
     },
     "metadata": {
      "needs_background": "light"
     },
     "output_type": "display_data"
    }
   ],
   "source": [
    "plot_graph(scores, \"mut_01\", 2)"
   ]
  },
  {
   "cell_type": "markdown",
   "metadata": {},
   "source": [
    "#### Taxa de mutação"
   ]
  },
  {
   "cell_type": "markdown",
   "metadata": {},
   "source": [
    "Para a análise da taxa de mutação foi executada 2 baterias de testes, um para cada tipo de técnica de mutação. Em cada bateria são realizadas 5 execuções com taxas distintas."
   ]
  },
  {
   "cell_type": "code",
   "execution_count": 114,
   "metadata": {},
   "outputs": [
    {
     "data": {
      "text/plain": [
       "[43, 6, 18, 94, 28]"
      ]
     },
     "execution_count": 114,
     "metadata": {},
     "output_type": "execute_result"
    }
   ],
   "source": [
    "rd.sample(range(0,101), 5)"
   ]
  },
  {
   "cell_type": "markdown",
   "metadata": {},
   "source": [
    "A partir de distribuição aleatória, foram obtidos os valores [43, 6, 18, 94, 28], deste modo, as taxas que serão testas serão:\n",
    "\n",
    "43%, 6%, 18%, 94% e 28%\n",
    "\n",
    "***OBS:*** *Caso a etapa anterior seja executada novamente, os valores serão alterados, sendo necessário corrigir os valores em código.*"
   ]
  },
  {
   "cell_type": "code",
   "execution_count": 122,
   "metadata": {},
   "outputs": [],
   "source": [
    "# Algoritmo Genético\n",
    "chromosome_size = 15\n",
    "maximum_generation = 150\n",
    "time_execution = 0\n",
    "\n",
    "# REPRODUÇÃO: Tipo (1), ponto aleatório\n",
    "\n",
    "starting_population_size = 2000\n",
    "minimum_population_size = 50\n",
    "maximum_population_size = 450"
   ]
  },
  {
   "cell_type": "markdown",
   "metadata": {},
   "source": [
    "Bateria de testes com o modelo de mutação do tipo 1:"
   ]
  },
  {
   "cell_type": "code",
   "execution_count": 123,
   "metadata": {},
   "outputs": [
    {
     "name": "stdout",
     "output_type": "stream",
     "text": [
      "=========================\n",
      "==========START==========\n",
      "=========================\n",
      "=========================\n",
      "EXECUTION TIME: 8.22\n"
     ]
    }
   ],
   "source": [
    "prob_mutation = 0.43\n",
    "scores, population = NSGA_II()"
   ]
  },
  {
   "cell_type": "code",
   "execution_count": 124,
   "metadata": {},
   "outputs": [
    {
     "data": {
      "image/png": "[encoded data removed]",
      "text/plain": [
       "<Figure size 432x288 with 1 Axes>"
      ]
     },
     "metadata": {
      "needs_background": "light"
     },
     "output_type": "display_data"
    }
   ],
   "source": [
    "plot_graph(scores, \"tx_mut_43\", 2)"
   ]
  },
  {
   "cell_type": "code",
   "execution_count": 125,
   "metadata": {},
   "outputs": [
    {
     "name": "stdout",
     "output_type": "stream",
     "text": [
      "=========================\n",
      "==========START==========\n",
      "=========================\n",
      "=========================\n",
      "EXECUTION TIME: 7.95\n"
     ]
    }
   ],
   "source": [
    "prob_mutation = 0.06\n",
    "scores, population = NSGA_II()"
   ]
  },
  {
   "cell_type": "code",
   "execution_count": 126,
   "metadata": {},
   "outputs": [
    {
     "data": {
      "image/png": "[encoded data removed]",
      "text/plain": [
       "<Figure size 432x288 with 1 Axes>"
      ]
     },
     "metadata": {
      "needs_background": "light"
     },
     "output_type": "display_data"
    }
   ],
   "source": [
    "plot_graph(scores, \"tx_mut_06\", 2)"
   ]
  },
  {
   "cell_type": "code",
   "execution_count": 127,
   "metadata": {},
   "outputs": [
    {
     "name": "stdout",
     "output_type": "stream",
     "text": [
      "=========================\n",
      "==========START==========\n",
      "=========================\n",
      "=========================\n",
      "EXECUTION TIME: 8.62\n"
     ]
    }
   ],
   "source": [
    "prob_mutation = 0.18\n",
    "scores, population = NSGA_II()"
   ]
  },
  {
   "cell_type": "code",
   "execution_count": 128,
   "metadata": {},
   "outputs": [
    {
     "data": {
      "image/png": "[encoded data removed]",
      "text/plain": [
       "<Figure size 432x288 with 1 Axes>"
      ]
     },
     "metadata": {
      "needs_background": "light"
     },
     "output_type": "display_data"
    }
   ],
   "source": [
    "plot_graph(scores, \"tx_mut_18\", 2)"
   ]
  },
  {
   "cell_type": "code",
   "execution_count": 129,
   "metadata": {},
   "outputs": [
    {
     "name": "stdout",
     "output_type": "stream",
     "text": [
      "=========================\n",
      "==========START==========\n",
      "=========================\n",
      "=========================\n",
      "EXECUTION TIME: 7.26\n"
     ]
    }
   ],
   "source": [
    "prob_mutation = 0.94\n",
    "scores, population = NSGA_II()"
   ]
  },
  {
   "cell_type": "code",
   "execution_count": 130,
   "metadata": {},
   "outputs": [
    {
     "data": {
      "image/png": "[encoded data removed]",
      "text/plain": [
       "<Figure size 432x288 with 1 Axes>"
      ]
     },
     "metadata": {
      "needs_background": "light"
     },
     "output_type": "display_data"
    }
   ],
   "source": [
    "plot_graph(scores, \"tx_mut_94\", 2)"
   ]
  },
  {
   "cell_type": "code",
   "execution_count": 131,
   "metadata": {},
   "outputs": [
    {
     "name": "stdout",
     "output_type": "stream",
     "text": [
      "=========================\n",
      "==========START==========\n",
      "=========================\n",
      "=========================\n",
      "EXECUTION TIME: 8.89\n"
     ]
    }
   ],
   "source": [
    "prob_mutation = 0.28\n",
    "scores, population = NSGA_II()"
   ]
  },
  {
   "cell_type": "code",
   "execution_count": 132,
   "metadata": {},
   "outputs": [
    {
     "data": {
      "image/png": "[encoded data removed]",
      "text/plain": [
       "<Figure size 432x288 with 1 Axes>"
      ]
     },
     "metadata": {
      "needs_background": "light"
     },
     "output_type": "display_data"
    }
   ],
   "source": [
    "plot_graph(scores, \"tx_mut_28\", 2)"
   ]
  },
  {
   "cell_type": "markdown",
   "metadata": {},
   "source": [
    "Bateria de testes com o modelo de mutação do tipo 2:"
   ]
  },
  {
   "cell_type": "code",
   "execution_count": 136,
   "metadata": {},
   "outputs": [
    {
     "name": "stdout",
     "output_type": "stream",
     "text": [
      "=========================\n",
      "==========START==========\n",
      "=========================\n",
      "=========================\n",
      "EXECUTION TIME: 8.55\n"
     ]
    }
   ],
   "source": [
    "prob_mutation = 0.43\n",
    "scores, population = NSGA_II()"
   ]
  },
  {
   "cell_type": "code",
   "execution_count": 137,
   "metadata": {},
   "outputs": [
    {
     "data": {
      "image/png": "[encoded data removed]",
      "text/plain": [
       "<Figure size 432x288 with 1 Axes>"
      ]
     },
     "metadata": {
      "needs_background": "light"
     },
     "output_type": "display_data"
    }
   ],
   "source": [
    "plot_graph(scores, \"tx_mut_43_2\", 2)"
   ]
  },
  {
   "cell_type": "code",
   "execution_count": 138,
   "metadata": {},
   "outputs": [
    {
     "name": "stdout",
     "output_type": "stream",
     "text": [
      "=========================\n",
      "==========START==========\n",
      "=========================\n",
      "=========================\n",
      "EXECUTION TIME: 8.66\n"
     ]
    }
   ],
   "source": [
    "prob_mutation = 0.06\n",
    "scores, population = NSGA_II()"
   ]
  },
  {
   "cell_type": "code",
   "execution_count": 139,
   "metadata": {},
   "outputs": [
    {
     "data": {
      "image/png": "[encoded data removed]",
      "text/plain": [
       "<Figure size 432x288 with 1 Axes>"
      ]
     },
     "metadata": {
      "needs_background": "light"
     },
     "output_type": "display_data"
    }
   ],
   "source": [
    "plot_graph(scores, \"tx_mut_06_2\", 2)"
   ]
  },
  {
   "cell_type": "code",
   "execution_count": 140,
   "metadata": {},
   "outputs": [
    {
     "name": "stdout",
     "output_type": "stream",
     "text": [
      "=========================\n",
      "==========START==========\n",
      "=========================\n",
      "=========================\n",
      "EXECUTION TIME: 7.95\n"
     ]
    }
   ],
   "source": [
    "prob_mutation = 0.18\n",
    "scores, population = NSGA_II()"
   ]
  },
  {
   "cell_type": "code",
   "execution_count": 141,
   "metadata": {},
   "outputs": [
    {
     "data": {
      "image/png": "[encoded data removed]",
      "text/plain": [
       "<Figure size 432x288 with 1 Axes>"
      ]
     },
     "metadata": {
      "needs_background": "light"
     },
     "output_type": "display_data"
    }
   ],
   "source": [
    "plot_graph(scores, \"tx_mut_18_2\", 2)"
   ]
  },
  {
   "cell_type": "code",
   "execution_count": 142,
   "metadata": {},
   "outputs": [
    {
     "name": "stdout",
     "output_type": "stream",
     "text": [
      "=========================\n",
      "==========START==========\n",
      "=========================\n",
      "=========================\n",
      "EXECUTION TIME: 8.33\n"
     ]
    }
   ],
   "source": [
    "prob_mutation = 0.94\n",
    "scores, population = NSGA_II()"
   ]
  },
  {
   "cell_type": "code",
   "execution_count": 143,
   "metadata": {},
   "outputs": [
    {
     "data": {
      "image/png": "[encoded data removed]",
      "text/plain": [
       "<Figure size 432x288 with 1 Axes>"
      ]
     },
     "metadata": {
      "needs_background": "light"
     },
     "output_type": "display_data"
    }
   ],
   "source": [
    "plot_graph(scores, \"tx_mut_94_2\", 2)"
   ]
  },
  {
   "cell_type": "code",
   "execution_count": 144,
   "metadata": {},
   "outputs": [
    {
     "name": "stdout",
     "output_type": "stream",
     "text": [
      "=========================\n",
      "==========START==========\n",
      "=========================\n",
      "=========================\n",
      "EXECUTION TIME: 7.81\n"
     ]
    }
   ],
   "source": [
    "prob_mutation = 0.28\n",
    "scores, population = NSGA_II()"
   ]
  },
  {
   "cell_type": "code",
   "execution_count": 145,
   "metadata": {},
   "outputs": [
    {
     "data": {
      "image/png": "[encoded data removed]",
      "text/plain": [
       "<Figure size 432x288 with 1 Axes>"
      ]
     },
     "metadata": {
      "needs_background": "light"
     },
     "output_type": "display_data"
    }
   ],
   "source": [
    "plot_graph(scores, \"tx_mut_28_2\", 2)"
   ]
  },
  {
   "cell_type": "markdown",
   "metadata": {},
   "source": [
    "___"
   ]
  },
  {
   "cell_type": "markdown",
   "metadata": {},
   "source": [
    "### Conclusões"
   ]
  },
  {
   "cell_type": "markdown",
   "metadata": {},
   "source": [
    "**OBS:** Os parâmetros utilizado em cada teste é descrito em sua respectiva seção."
   ]
  },
  {
   "cell_type": "markdown",
   "metadata": {},
   "source": [
    "#### Tamanho da população\n",
    "\n",
    "![title](img/pop.png)\n",
    "\n",
    "Para a avaliação do impacto do tamanho da população nas soluções obtidas, foram realizados dois testes, o primeiro utilizou uma população inicial de 2000 indivíduos e com um intervalo entre o limite superior de 450 e inferior de 50 (figura 1). No segundo teste os limites utilizados foram, superior igual a 750 e inferior de 100 (figura 2). Durante cada geração a população flutua dentro destes intervalos, estes fator não permite um controle preciso sobre o número de indivíduos que passarão para a próxima geração porém permitem uma maior variabilidade entre os mesmos. Ao analisar os dados obtidos não foi possível observar grandes diferenças nas soluções, porém podemos destacar o tempo de execução, para a primeira execução o algoritmo levou cerca de 8 minutos e já no segundo teste o tempo aproximado foi de 13 minutos, Um acréscimo considerável quando analisado o acréscimo do intervalo entre os limites.\n",
    "\n",
    "#### Critérios de parada\n",
    "\n",
    "![title](img/par.png)\n",
    "\n",
    "Na análise dos critérios de parada, a figura 1 expressa uma execução completa do algoritmo, ou seja, o algoritmo realizou todas as gerações estipuladas, em seguida o algoritmo foi limitado pelo tempo de execução, deste modo ao atingir um tempo específico o algoritmo retorna a melhor solução já encontrada. As figuras 3 e 4 representam as soluções obtidas com as restrições 4 min. e 2 min. respectivamente. É possível notar a diferença na qualidade das soluções obtidas, na restrição de 4 min. foi encontrado um indivíduo/solução que utiliza apenas 11 drones e apresenta uma taxa de cobertura da topologia de aproximadamente 72%, enquanto que para a execução limitada a 2 min. para a obtenção de uma taxa de cobertura similar foi necessário a utilização de 14 drones.\n",
    "\n",
    "#### Técnica de crossover\n",
    "\n",
    "![title](img/cro.png)\n",
    "\n",
    "Um dos resultados que mais chamaram a atenção nos testes está associado ao modelo de execução da técnica de crossover. Como já descrito anteriormente, foram implementados 2 modelos de reprodução baseados na técnica de crossover, a primeira implementação realiza e baseada em um ponto de corte obtido de modo aleatório, desta forma existe a oportunidade da geração de uma maior variabilidade entre os próprios indivíduos de uma mesma geração. Já na segunda implementação utiliza-se 2 pontos de corte fixos, onde as 3 seções geradas pelos cortes correspondem a 1/3 de cada gene, sendo combinados alternadamente entre o indivíduo A e B. A figura 5 expressa os dados obtidos ao utilizar a primeira técnica e a figura 6 está relacionada a utilização do segundo modelo. Ambas as execuções rodaram sobre os mesmo parâmetros, porém mesmo considerando a aleatoriedade presente nos algoritmos genéticos, após diversas execuções durante a construção deste projeto a discrepância entre as soluções obtidas se manteve em sua grande maioria. Como observado, o primeiro modelo indica a construção de populações com maior variabilidade entre seus indivíduos, diferentemente da segunda abordagem.\n",
    "\n",
    "#### Técnica de mutação\n",
    "\n",
    "![title](img/mut.png)\n",
    "\n",
    "Os resultados obtidos entre as técnicas de mutação apresentaram o comportamento esperado frente a proposta de cada uma das abordagens utilizadas. Como a primeira implementação executa a remoção de drones da solução, foi possível observar que os resultados obtidos (figura 7) ao utilizá-la obtiveram maior eficácia na utilização deste objetivo em específico, ou seja, a amplitude das soluções foi maior do que os obtidos pela outra abordagem que implementa a troca da posição dos drones por novos locais disponíveis. Porém, mesmo apresentando menor abrangência, as soluções encontradas (figura 8) também apresentam boa correlação entre a taxa de cobertura e o numero de drones. A abrangência da primeira abordagem indica que esta permite uma varredura mais ampla sobre o espaço de busca.\n",
    "\n",
    "#### Taxa de mutação\n",
    "\n",
    "Como mencionado, foi realizado 2 baterias de testes para a análise da taxa de mutação, na primeira bateria foi utilizada o tipo 1 de mutação e para a segunda bateria foi adotado o 2 modelos de mutação. Em cada bateria são realizadas 5 execuções com taxas distintas, sendo elas: 43% (figura 9, 14), 6% (figura 10, 15), 18% (figura 11, 16), 94% (figura 12, 17) e 28% (figura 13, 18).\n",
    "\n",
    "***Modelo de mutação tipo 1:***\n",
    "\n",
    "![title](img/tx_mut.png)\n",
    "\n",
    "Nos primeiro resultados obtidos foi possível observar que a taxa de mutação de 94% (figura 12) não forneceu maior variabilidade e amplitude entre as soluções como o esperado, por exemplo, com a taxa de mutação em 6% (figura 10) os resultados obtidos foram melhores, porém em outras execuções realizadas durante o processo de construção deste projeto este comportamento não se manteve, onde para taxas maiores a amplitude das soluções (mais soluções com diferentes relacionamentos entre os objetivos) apresentou-se maior.\n",
    "\n",
    "***Modelo de mutação tipo 2:***\n",
    "\n",
    "![title](img/tx_cro.png)\n",
    "\n",
    "Na segunda bateria de testes foi observado que as soluções obtidas mantiveram-se próximas, com destaque para a taxa de 18% (figura 16) que conseguiu fornecer um melhor alcance de taxa de cobertura mediante a utilização do número de drones utilizados (porém estes valores ainda próximos de outras soluções obtidas em mais taxas de mutação)."
   ]
  },
  {
   "cell_type": "markdown",
   "metadata": {},
   "source": [
    "Todos os testes realizados nesta secção forneceram uma visão sobre o impacto de cada parâmetro que constituem o algoritmo, testes adicionais foram realizados ao longo da construção deste projeto e serviram como base de argumentação em diversas seções. Devo ressaltar que alguns tópicos como técnica de seleção, método de substituição e taxa de crossover não se aplicam a este projeto pelo fato do algoritmo implementado não apresentar controle específico sobre estes fatores."
   ]
  },
  {
   "cell_type": "markdown",
   "metadata": {},
   "source": [
    "___"
   ]
  },
  {
   "cell_type": "markdown",
   "metadata": {},
   "source": [
    "### Referências\n",
    "\n",
    "[1] Urban mobility among most critical issues faced by brazilian cities,” Agência Brasil. [Online].\n",
    "Available: https://agenciabrasil.ebc.com.br/en/geral/noticia/2014-09/urban-mobility-among-most-critical-issues-faced-brazilian-cities\n",
    "\n",
    "[2] “Folha informativa - acidentes de trânsito,” OPAS/WHO. [Online].\n",
    "Available: https://www.paho.org/bra/index.php?option=comcontent&view=article&id=5147:acidentes-de-transito-folha-informativa&Itemid=779\n",
    "\n",
    "[3] “Global status report on road safety 2018,” WHO. [Online].\n",
    "Available: https://www.who.int/publications-detail/global-status-report-on-road-safety-2018\n",
    "\n",
    "[4] “Legislação informatizada - lei no13.614, de 11 de janeiro de 2018 - publicação original,”Câmara dos Deputados. [Online].\n",
    "Available: https://www2.camara.leg.br/legin/fed/lei/2018/lei-13614-11-janeiro-2018-786094-publicacaooriginal-154750-pl.html\n",
    "\n",
    "[5] K. Deb, A. Pratap, S. Agarwal and T. Meyarivan, \"A fast and elitist multiobjective genetic algorithm: NSGA-II,\" in IEEE Transactions on Evolutionary Computation, vol. 6, no. 2, pp. 182-197, April 2002, doi: 10.1109/4235.996017."
   ]
  }
 ],
 "metadata": {
  "kernelspec": {
   "display_name": "Python 3",
   "language": "python",
   "name": "python3"
  },
  "language_info": {
   "codemirror_mode": {
    "name": "ipython",
    "version": 3
   },
   "file_extension": ".py",
   "mimetype": "text/x-python",
   "name": "python",
   "nbconvert_exporter": "python",
   "pygments_lexer": "ipython3",
   "version": "3.8.4"
  }
 },
 "nbformat": 4,
 "nbformat_minor": 4
}
